{
 "cells": [
  {
   "cell_type": "code",
   "execution_count": 39,
   "id": "00ac9e05-ff9d-4b6f-8906-091e1d7e7e9f",
   "metadata": {},
   "outputs": [],
   "source": [
    "import openai\n",
    "\n",
    "def generate_text(keywords, task, max_iterations=5, model_name='gpt-3.5-turbo-instruct', temperature=0.2):\n",
    "    \n",
    "    keywords_str = ' AND '.join(keywords)\n",
    "    prompt = f'''You are a helpful and knowledgeable technical support assistant.\n",
    "Given a device or appliance described by the following keywords: \\\"{', '.join(keywords)}\\\", and a task defined by: \\\"{task}\\\", please provide a short and concise set of numbered instructions for completing the task using the device or appliance. Your output should end with the tag \"</END>\".\n",
    "\n",
    "Begin your response here:\n",
    "'''\n",
    "    output = ''\n",
    "    \n",
    "    for _ in range(max_iterations):\n",
    "        response = openai.Completion.create(\n",
    "            api_key=os.getenv('OPENAI_API_KEY'),\n",
    "            model=\"gpt-3.5-turbo-instruct\",\n",
    "            prompt=prompt + output,\n",
    "            temperature=temperature,\n",
    "            stop='</END>',\n",
    "            max_tokens=150  # Set a reasonable max token count per iteration\n",
    "        )\n",
    "        \n",
    "        # Append the new output to our output string\n",
    "        output += response.choices[0].text.strip()\n",
    "        \n",
    "        # Check if the response contains the </END> tag\n",
    "        if '</END>' in output:\n",
    "            break\n",
    "    \n",
    "    return output"
   ]
  },
  {
   "cell_type": "code",
   "execution_count": 24,
   "id": "cd475859-3ea3-46ab-a593-0f665b7c96c7",
   "metadata": {},
   "outputs": [
    {
     "data": {
      "text/plain": [
       "True"
      ]
     },
     "execution_count": 24,
     "metadata": {},
     "output_type": "execute_result"
    }
   ],
   "source": [
    "from dotenv import load_dotenv\n",
    "\n",
    "load_dotenv('../.env', override=True)"
   ]
  },
  {
   "cell_type": "code",
   "execution_count": 2,
   "id": "04d68a46-557b-4bdf-8760-a0eec42bfb4a",
   "metadata": {},
   "outputs": [],
   "source": [
    "import os\n",
    "import imgbbpy\n",
    "from serpapi import GoogleSearch\n",
    "\n",
    "imgbb_client = imgbbpy.SyncClient(os.getenv('IMGBB_API_KEY'))\n",
    "image = imgbb_client.upload(file='../tests/fixtures/thermostat.jpg', expiration=60)\n",
    "\n",
    "search = GoogleSearch({\n",
    "  \"api_key\": os.getenv('SERP_API_KEY'),\n",
    "  \"engine\": \"google_lens\",\n",
    "  \"url\": image.url\n",
    "})\n",
    "results = search.get_dict()\n",
    "keywords = [x['title'] for x in results['knowledge_graph']]"
   ]
  },
  {
   "cell_type": "code",
   "execution_count": 40,
   "id": "4622e854-c86c-4c6a-a39e-7f2b47904f84",
   "metadata": {},
   "outputs": [
    {
     "name": "stdout",
     "output_type": "stream",
     "text": [
      "1. Press the \"Menu\" button on the White-Rodgers 1F85-0477 thermostat.\n",
      "2. Use the arrow keys to navigate to the \"Program\" option and press \"Select\".\n",
      "3. Use the arrow keys to navigate to the \"Set Time\" option and press \"Select\".\n",
      "4. Use the arrow keys to set the time to 6:00 AM and press \"Select\".\n",
      "5. Use the arrow keys to navigate to the \"Set Temperature\" option and press \"Select\".\n",
      "6. Use the arrow keys to set the temperature to 72 degrees and press \"Select\".\n",
      "7. Press the \"Menu\" button to save the timer settings.\n",
      "8. The thermostat will now automatically warm up to 72 degreesat 6:00 AM.\n"
     ]
    }
   ],
   "source": [
    "output_text = generate_text(keywords, 'set a 6am timer to warm up to 72 degrees')\n",
    "print(output_text)"
   ]
  },
  {
   "cell_type": "code",
   "execution_count": null,
   "id": "20162dab-a7d9-4bab-a644-66d0c9693f68",
   "metadata": {},
   "outputs": [],
   "source": []
  }
 ],
 "metadata": {
  "kernelspec": {
   "display_name": "Python 3 (ipykernel)",
   "language": "python",
   "name": "python3"
  },
  "language_info": {
   "codemirror_mode": {
    "name": "ipython",
    "version": 3
   },
   "file_extension": ".py",
   "mimetype": "text/x-python",
   "name": "python",
   "nbconvert_exporter": "python",
   "pygments_lexer": "ipython3",
   "version": "3.9.4"
  }
 },
 "nbformat": 4,
 "nbformat_minor": 5
}
